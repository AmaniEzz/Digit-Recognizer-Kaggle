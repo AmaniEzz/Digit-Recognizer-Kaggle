{
 "cells": [
  {
   "cell_type": "code",
   "execution_count": 67,
   "metadata": {
    "_cell_guid": "b1076dfc-b9ad-4769-8c92-a6c4dae69d19",
    "_uuid": "8f2839f25d086af736a60e9eeb907d3b93b6e0e5"
   },
   "outputs": [
    {
     "name": "stdout",
     "output_type": "stream",
     "text": [
      "/kaggle/input/digit-recognizer/sample_submission.csv\n",
      "/kaggle/input/digit-recognizer/test.csv\n",
      "/kaggle/input/digit-recognizer/train.csv\n"
     ]
    }
   ],
   "source": [
    "# This Python 3 environment comes with many helpful analytics libraries installed\n",
    "# It is defined by the kaggle/python Docker image: https://github.com/kaggle/docker-python\n",
    "# For example, here's several helpful packages to load\n",
    "\n",
    "import numpy as np # linear algebra\n",
    "import pandas as pd # data processing, CSV file I/O (e.g. pd.read_csv)\n",
    "\n",
    "# Input data files are available in the read-only \"../input/\" directory\n",
    "# For example, running this (by clicking run or pressing Shift+Enter) will list all files under the input directory\n",
    "\n",
    "import os\n",
    "for dirname, _, filenames in os.walk('/kaggle/input'):\n",
    "    for filename in filenames:\n",
    "        print(os.path.join(dirname, filename))\n",
    "\n",
    "# You can write up to 5GB to the current directory (/kaggle/working/) that gets preserved as output when you create a version using \"Save & Run All\" \n",
    "# You can also write temporary files to /kaggle/temp/, but they won't be saved outside of the current session"
   ]
  },
  {
   "cell_type": "code",
   "execution_count": 68,
   "metadata": {},
   "outputs": [
    {
     "name": "stdout",
     "output_type": "stream",
     "text": [
      "   pixel0  pixel1  pixel2  pixel3  pixel4  pixel5  pixel6  pixel7  pixel8  \\\n",
      "0       0       0       0       0       0       0       0       0       0   \n",
      "1       0       0       0       0       0       0       0       0       0   \n",
      "2       0       0       0       0       0       0       0       0       0   \n",
      "3       0       0       0       0       0       0       0       0       0   \n",
      "4       0       0       0       0       0       0       0       0       0   \n",
      "\n",
      "   pixel9  ...  pixel774  pixel775  pixel776  pixel777  pixel778  pixel779  \\\n",
      "0       0  ...         0         0         0         0         0         0   \n",
      "1       0  ...         0         0         0         0         0         0   \n",
      "2       0  ...         0         0         0         0         0         0   \n",
      "3       0  ...         0         0         0         0         0         0   \n",
      "4       0  ...         0         0         0         0         0         0   \n",
      "\n",
      "   pixel780  pixel781  pixel782  pixel783  \n",
      "0         0         0         0         0  \n",
      "1         0         0         0         0  \n",
      "2         0         0         0         0  \n",
      "3         0         0         0         0  \n",
      "4         0         0         0         0  \n",
      "\n",
      "[5 rows x 784 columns]\n",
      "(42000, 784)\n",
      "   pixel0  pixel1  pixel2  pixel3  pixel4  pixel5  pixel6  pixel7  pixel8  \\\n",
      "0       0       0       0       0       0       0       0       0       0   \n",
      "1       0       0       0       0       0       0       0       0       0   \n",
      "2       0       0       0       0       0       0       0       0       0   \n",
      "3       0       0       0       0       0       0       0       0       0   \n",
      "4       0       0       0       0       0       0       0       0       0   \n",
      "\n",
      "   pixel9  ...  pixel774  pixel775  pixel776  pixel777  pixel778  pixel779  \\\n",
      "0       0  ...         0         0         0         0         0         0   \n",
      "1       0  ...         0         0         0         0         0         0   \n",
      "2       0  ...         0         0         0         0         0         0   \n",
      "3       0  ...         0         0         0         0         0         0   \n",
      "4       0  ...         0         0         0         0         0         0   \n",
      "\n",
      "   pixel780  pixel781  pixel782  pixel783  \n",
      "0         0         0         0         0  \n",
      "1         0         0         0         0  \n",
      "2         0         0         0         0  \n",
      "3         0         0         0         0  \n",
      "4         0         0         0         0  \n",
      "\n",
      "[5 rows x 784 columns]\n",
      "(28000, 784)\n"
     ]
    }
   ],
   "source": [
    "#Load the files \n",
    "import pandas as pd\n",
    "import numpy as np\n",
    "import matplotlib.pyplot as plt\n",
    "\n",
    "from sklearn.model_selection import train_test_split\n",
    "from sklearn.metrics import confusion_matrix\n",
    "import itertools\n",
    "\n",
    "from keras.utils.np_utils import to_categorical # convert to one-hot-encoding\n",
    "from keras.models import Sequential\n",
    "from keras.layers import Dense, Dropout, Flatten, Conv2D, MaxPool2D\n",
    "from keras.optimizers import RMSprop\n",
    "from keras.preprocessing.image import ImageDataGenerator\n",
    "from keras.callbacks import ReduceLROnPlateau\n",
    "from keras.layers.core import Dense, Dropout, Activation\n",
    "\n",
    "\n",
    "\n",
    "train = pd.read_csv('/kaggle/input/digit-recognizer/train.csv')\n",
    "#training data\n",
    "X_train  = train.drop(['label'], axis=1)\n",
    "#training labels\n",
    "Y_target = train['label']\n",
    "\n",
    "#testing data\n",
    "test  = pd.read_csv('/kaggle/input/digit-recognizer/test.csv')\n",
    "\n",
    "#to free up some space\n",
    "del train\n",
    "\n",
    "\n",
    "#print out the first 5 columns of train and test sets and their shapes\n",
    "print(X_train.head())\n",
    "print(np.shape(X_train))\n",
    "print(test.head()) \n",
    "print(np.shape(test))"
   ]
  },
  {
   "cell_type": "code",
   "execution_count": 69,
   "metadata": {},
   "outputs": [
    {
     "name": "stdout",
     "output_type": "stream",
     "text": [
      "shape of training data after reshaping :- (42000, 28, 28, 1)\n",
      "shape of testing data after reshaping :- (28000, 28, 28, 1)\n"
     ]
    }
   ],
   "source": [
    "# normalizing the data (between 0 and 1) to help the CNN with the training\n",
    "X_train /= 255.0\n",
    "test /= 255.0\n",
    "\n",
    "# Reshape image in 3 dimensions (height = 28px, width = 28px , canal = 1) \n",
    "#chanal is 1 for grey scale images\n",
    "X_train = X_train.values.reshape(-1,28,28,1)\n",
    "test = test.values.reshape(-1,28,28,1)\n",
    "\n",
    "#Lets see the shape of X_train set and test set after normalizaing and reshaping\n",
    "print(\"shape of training data after reshaping :-\" ,np.shape(X_train))\n",
    "print(\"shape of testing data after reshaping :-\"  ,np.shape(test))"
   ]
  },
  {
   "cell_type": "code",
   "execution_count": 70,
   "metadata": {},
   "outputs": [
    {
     "name": "stdout",
     "output_type": "stream",
     "text": [
      "Labels Shape before one-hot encoding:  (42000,)\n",
      "Labels Shape after one-hot encoding:  (42000, 10)\n"
     ]
    }
   ],
   "source": [
    "# one-hot encoding using keras (ex : 3 -> [0,0,0,1,0,0,0,0,0,0])\n",
    "print(\"Labels Shape before one-hot encoding: \", Y_target.shape)\n",
    "Y_target = to_categorical(Y_target, 10)\n",
    "print(\"Labels Shape after one-hot encoding: \", Y_target.shape)"
   ]
  },
  {
   "cell_type": "code",
   "execution_count": 71,
   "metadata": {},
   "outputs": [
    {
     "data": {
      "image/png": "[encoded data removed]",
      "text/plain": [
       "<Figure size 432x288 with 1 Axes>"
      ]
     },
     "metadata": {
      "needs_background": "light"
     },
     "output_type": "display_data"
    }
   ],
   "source": [
    "# Split the train and the testing set for the fitting\n",
    "X_train, X_test, Y_target, Y_test = train_test_split(X_train, Y_target, test_size = 0.1, random_state=2)\n",
    "g = plt.imshow(X_train[9][:,:,0])"
   ]
  },
  {
   "cell_type": "code",
   "execution_count": 72,
   "metadata": {},
   "outputs": [
    {
     "name": "stdout",
     "output_type": "stream",
     "text": [
      "Epoch 1/25\n",
      "440/440 - 3s - loss: 0.2576 - accuracy: 0.9177 - val_loss: 0.0578 - val_accuracy: 0.9802\n",
      "Epoch 2/25\n",
      "440/440 - 3s - loss: 0.0819 - accuracy: 0.9753 - val_loss: 0.0472 - val_accuracy: 0.9860\n",
      "Epoch 3/25\n",
      "440/440 - 3s - loss: 0.0582 - accuracy: 0.9817 - val_loss: 0.0456 - val_accuracy: 0.9879\n",
      "Epoch 4/25\n",
      "440/440 - 3s - loss: 0.0471 - accuracy: 0.9859 - val_loss: 0.0346 - val_accuracy: 0.9910\n",
      "Epoch 5/25\n",
      "440/440 - 3s - loss: 0.0404 - accuracy: 0.9877 - val_loss: 0.0329 - val_accuracy: 0.9905\n",
      "Epoch 6/25\n",
      "440/440 - 3s - loss: 0.0356 - accuracy: 0.9887 - val_loss: 0.0307 - val_accuracy: 0.9912\n",
      "Epoch 7/25\n",
      "440/440 - 3s - loss: 0.0324 - accuracy: 0.9898 - val_loss: 0.0358 - val_accuracy: 0.9905\n",
      "Epoch 8/25\n",
      "440/440 - 3s - loss: 0.0276 - accuracy: 0.9913 - val_loss: 0.0301 - val_accuracy: 0.9926\n",
      "Epoch 9/25\n",
      "440/440 - 3s - loss: 0.0272 - accuracy: 0.9917 - val_loss: 0.0315 - val_accuracy: 0.9917\n",
      "Epoch 10/25\n",
      "440/440 - 3s - loss: 0.0247 - accuracy: 0.9925 - val_loss: 0.0327 - val_accuracy: 0.9924\n",
      "Epoch 11/25\n",
      "440/440 - 3s - loss: 0.0248 - accuracy: 0.9923 - val_loss: 0.0328 - val_accuracy: 0.9914\n",
      "Epoch 12/25\n",
      "440/440 - 3s - loss: 0.0221 - accuracy: 0.9931 - val_loss: 0.0268 - val_accuracy: 0.9933\n",
      "Epoch 13/25\n",
      "440/440 - 3s - loss: 0.0211 - accuracy: 0.9936 - val_loss: 0.0368 - val_accuracy: 0.9919\n",
      "Epoch 14/25\n",
      "440/440 - 3s - loss: 0.0174 - accuracy: 0.9946 - val_loss: 0.0283 - val_accuracy: 0.9936\n",
      "Epoch 15/25\n",
      "440/440 - 3s - loss: 0.0187 - accuracy: 0.9939 - val_loss: 0.0297 - val_accuracy: 0.9921\n",
      "Epoch 16/25\n",
      "440/440 - 3s - loss: 0.0174 - accuracy: 0.9947 - val_loss: 0.0280 - val_accuracy: 0.9931\n",
      "Epoch 17/25\n",
      "440/440 - 3s - loss: 0.0164 - accuracy: 0.9946 - val_loss: 0.0290 - val_accuracy: 0.9926\n",
      "Epoch 18/25\n",
      "440/440 - 3s - loss: 0.0164 - accuracy: 0.9953 - val_loss: 0.0309 - val_accuracy: 0.9938\n",
      "Epoch 19/25\n",
      "440/440 - 3s - loss: 0.0151 - accuracy: 0.9953 - val_loss: 0.0270 - val_accuracy: 0.9931\n",
      "Epoch 20/25\n",
      "440/440 - 3s - loss: 0.0146 - accuracy: 0.9952 - val_loss: 0.0301 - val_accuracy: 0.9929\n",
      "Epoch 21/25\n",
      "440/440 - 3s - loss: 0.0131 - accuracy: 0.9961 - val_loss: 0.0360 - val_accuracy: 0.9917\n",
      "Epoch 22/25\n",
      "440/440 - 3s - loss: 0.0116 - accuracy: 0.9965 - val_loss: 0.0323 - val_accuracy: 0.9924\n",
      "Epoch 23/25\n",
      "440/440 - 3s - loss: 0.0141 - accuracy: 0.9955 - val_loss: 0.0293 - val_accuracy: 0.9926\n",
      "Epoch 24/25\n",
      "440/440 - 3s - loss: 0.0124 - accuracy: 0.9963 - val_loss: 0.0300 - val_accuracy: 0.9936\n",
      "Epoch 25/25\n",
      "440/440 - 3s - loss: 0.0099 - accuracy: 0.9970 - val_loss: 0.0340 - val_accuracy: 0.9924\n"
     ]
    }
   ],
   "source": [
    "# Set the CNN model \n",
    "# my CNN architechture is In -> [[Conv2D->relu]*2 -> MaxPool2D -> Dropout]*2 -> Flatten -> Dense -> Dropout -> Out\n",
    "\n",
    "model = Sequential()\n",
    "\n",
    "model.add(Conv2D(filters = 32, kernel_size = (5,5),padding = 'Same', activation ='relu', \n",
    "                 input_shape = (28,28,1)))\n",
    "model.add(Conv2D(filters = 32, kernel_size = (5,5),padding = 'Same', activation ='relu'))\n",
    "model.add(MaxPool2D(pool_size=(2,2)))\n",
    "model.add(Dropout(0.25))\n",
    "\n",
    "\n",
    "model.add(Conv2D(filters = 64, kernel_size = (3,3),padding = 'Same', activation ='relu'))\n",
    "model.add(Conv2D(filters = 64, kernel_size = (3,3),padding = 'Same', activation ='relu'))\n",
    "model.add(MaxPool2D(pool_size=(2,2), strides=(2,2)))\n",
    "model.add(Dropout(0.25))\n",
    "\n",
    "\n",
    "model.add(Flatten())\n",
    "model.add(Dense(256, activation = \"relu\"))\n",
    "model.add(Dropout(0.5))\n",
    "model.add(Dense(10, activation = \"softmax\"))\n",
    "\n",
    "\n",
    "# compiling the sequential model\n",
    "model.compile(loss='categorical_crossentropy', metrics=['accuracy'], optimizer='adam')\n",
    "\n",
    "\n",
    "# training the model and saving metrics in history\n",
    "history = model.fit(X_train, Y_target,\n",
    "          batch_size=86, epochs=25,\n",
    "          verbose=2,\n",
    "          validation_data=(X_test, Y_test))\n",
    "\n",
    "\n",
    "\n",
    "\n"
   ]
  },
  {
   "cell_type": "code",
   "execution_count": 76,
   "metadata": {},
   "outputs": [
    {
     "data": {
      "image/png": "[encoded data removed]",
      "text/plain": [
       "<Figure size 432x288 with 2 Axes>"
      ]
     },
     "metadata": {
      "needs_background": "light"
     },
     "output_type": "display_data"
    }
   ],
   "source": [
    "# plotting the metrics\n",
    "fig = plt.figure()\n",
    "plt.subplot(2,1,1)\n",
    "plt.plot(history.history['accuracy'])\n",
    "plt.plot(history.history['val_accuracy'])\n",
    "plt.title('model accuracy')\n",
    "plt.ylabel('accuracy')\n",
    "plt.xlabel('epoch')\n",
    "plt.legend(['train', 'test'], loc='lower right')\n",
    "\n",
    "\n",
    "plt.subplot(2,1,2)\n",
    "plt.plot(history.history['loss'])\n",
    "plt.plot(history.history['val_loss'])\n",
    "plt.title('model loss')\n",
    "plt.ylabel('loss')\n",
    "plt.xlabel('epoch')\n",
    "plt.legend(['train', 'test'], loc='upper right')\n",
    "\n",
    "plt.tight_layout()\n"
   ]
  }
 ],
 "metadata": {
  "kernelspec": {
   "display_name": "Python 3",
   "language": "python",
   "name": "python3"
  },
  "language_info": {
   "codemirror_mode": {
    "name": "ipython",
    "version": 3
   },
   "file_extension": ".py",
   "mimetype": "text/x-python",
   "name": "python",
   "nbconvert_exporter": "python",
   "pygments_lexer": "ipython3",
   "version": "3.7.1"
  }
 },
 "nbformat": 4,
 "nbformat_minor": 4
}
